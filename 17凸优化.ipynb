{
 "cells": [
  {
   "cell_type": "markdown",
   "metadata": {
    "graffitiCellId": "id_njm7x1u",
    "id": "C9B4CE5020F84A15930798A3CBA61FF5",
    "jupyter": {},
    "mdEditEnable": false,
    "slideshow": {
     "slide_type": "slide"
    },
    "tags": []
   },
   "source": [
    "# 优化与深度学习"
   ]
  },
  {
   "cell_type": "markdown",
   "metadata": {
    "graffitiCellId": "id_7sadb8d",
    "id": "6AFBCEFB67704543864D5CBCE35CBC56",
    "jupyter": {},
    "mdEditEnable": false,
    "slideshow": {
     "slide_type": "slide"
    },
    "tags": []
   },
   "source": [
    "## 优化与估计"
   ]
  },
  {
   "cell_type": "markdown",
   "metadata": {
    "graffitiCellId": "id_ehuuem5",
    "id": "9AC6F434E5F6468B87DC7EE4C0FC1F67",
    "jupyter": {},
    "mdEditEnable": false,
    "slideshow": {
     "slide_type": "slide"
    },
    "tags": []
   },
   "source": [
    "尽管优化方法可以最小化深度学习中的损失函数值，但本质上优化方法达到的目标与深度学习的目标并不相同。\n",
    "- 优化方法目标：训练集损失函数值\n",
    "- 深度学习目标：测试集损失函数值（泛化性）"
   ]
  },
  {
   "cell_type": "markdown",
   "metadata": {
    "graffitiCellId": "id_02rlac8",
    "id": "A39C014782E6405D8DFAA44E0ACF27E1",
    "jupyter": {},
    "mdEditEnable": false,
    "slideshow": {
     "slide_type": "slide"
    },
    "tags": []
   },
   "source": [
    "## 优化在深度学习中的挑战\n",
    "1. 局部最小值\n",
    "2. 鞍点\n",
    "3. 梯度消失：梯度为0"
   ]
  },
  {
   "cell_type": "markdown",
   "metadata": {
    "graffitiCellId": "id_bziy6ld",
    "id": "41A4D17DC7054EAD9201E44FE548EFEF",
    "jupyter": {},
    "mdEditEnable": false,
    "slideshow": {
     "slide_type": "slide"
    },
    "tags": []
   },
   "source": [
    "# 凸性 （Convexity）"
   ]
  },
  {
   "cell_type": "markdown",
   "metadata": {
    "graffitiCellId": "id_pyk6zer",
    "id": "C2029EA08486473D8458254669DF04FA",
    "jupyter": {},
    "mdEditEnable": false,
    "slideshow": {
     "slide_type": "slide"
    },
    "tags": []
   },
   "source": [
    "### 凸集合：任意两点的连线仍在集合内\n",
    "### 凸函数：两者中间的点连线的y大于实际函数的y（比如：最低点向下的抛物线\n",
    "$$\n",
    "\\lambda f(x)+(1-\\lambda) f\\left(x^{\\prime}\\right) \\geq f\\left(\\lambda x+(1-\\lambda) x^{\\prime}\\right)\n",
    "$$\n"
   ]
  },
  {
   "cell_type": "markdown",
   "metadata": {
    "graffitiCellId": "id_dgq9fj8",
    "id": "BFEAFAA06C6248D78969AA592C07BAB8",
    "jupyter": {},
    "mdEditEnable": false,
    "slideshow": {
     "slide_type": "slide"
    },
    "tags": []
   },
   "source": [
    "### Jensen 不等式"
   ]
  },
  {
   "cell_type": "markdown",
   "metadata": {
    "graffitiCellId": "id_4k335lw",
    "id": "7BA75D0A48C84E1EBBE89BA3AD2326C3",
    "jupyter": {},
    "mdEditEnable": false,
    "slideshow": {
     "slide_type": "slide"
    },
    "tags": []
   },
   "source": [
    "\n",
    "$$\n",
    "\\sum_{i} \\alpha_{i} f\\left(x_{i}\\right) \\geq f\\left(\\sum_{i} \\alpha_{i} x_{i}\\right) \\text { and } E_{x}[f(x)] \\geq f\\left(E_{x}[x]\\right)\n",
    "$$\n"
   ]
  },
  {
   "cell_type": "markdown",
   "metadata": {
    "graffitiCellId": "id_lya7oiy",
    "id": "C7382E20BBE0484082B1D60DC75F9170",
    "jupyter": {},
    "mdEditEnable": false,
    "slideshow": {
     "slide_type": "slide"
    },
    "tags": []
   },
   "source": [
    "---"
   ]
  },
  {
   "cell_type": "markdown",
   "metadata": {
    "graffitiCellId": "id_mwk1azh",
    "id": "C9FEFF55DEE94C888B6BF96DA5F6EF30",
    "jupyter": {},
    "mdEditEnable": false,
    "slideshow": {
     "slide_type": "slide"
    },
    "tags": []
   },
   "source": [
    "## 性质\n",
    "\n",
    "###  1无局部最小值\n",
    "\n",
    "### 2与凸集的关系\n",
    "对于凸函数 $f(x)$，定义集合 $S_{b}:=\\{x | x \\in X \\text { and } f(x) \\leq b\\}$，则集合 $S_b$ 为凸集\n",
    "### 3凸函数与二阶导数\n",
    "$f^{''}(x) \\ge 0 \\Longleftrightarrow f(x)$ 是凸函数\n",
    "证明：拉格朗日乘子法等"
   ]
  }
 ],
 "metadata": {
  "kernelspec": {
   "display_name": "Python 3",
   "language": "python",
   "name": "python3"
  },
  "language_info": {
   "codemirror_mode": {
    "name": "ipython",
    "version": 3
   },
   "file_extension": ".py",
   "mimetype": "text/x-python",
   "name": "python",
   "nbconvert_exporter": "python",
   "pygments_lexer": "ipython3",
   "version": "3.7.4"
  }
 },
 "nbformat": 4,
 "nbformat_minor": 4
}
